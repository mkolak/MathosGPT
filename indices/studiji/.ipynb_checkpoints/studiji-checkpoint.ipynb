{
 "cells": [
  {
   "cell_type": "code",
   "execution_count": 20,
   "id": "db590bbc",
   "metadata": {},
   "outputs": [],
   "source": [
    "import os\n",
    "os.environ[\"OPENAI_API_KEY\"] = 'YOUR_API_KEY'"
   ]
  },
  {
   "cell_type": "code",
   "execution_count": 21,
   "id": "7f7a96e6",
   "metadata": {},
   "outputs": [],
   "source": [
    "from llama_index import VectorStoreIndex, SimpleDirectoryReader, SimpleKeywordTableIndex\n",
    "from llama_index.node_parser import SimpleNodeParser\n",
    "from llama_index.indices.service_context import ServiceContext\n",
    "from llama_index.llms import OpenAI\n",
    "\n",
    "from llama_index.schema import TextNode, NodeRelationship, RelatedNodeInfo"
   ]
  },
  {
   "cell_type": "markdown",
   "id": "bf71b0d5",
   "metadata": {},
   "source": [
    "# Building knowledge base with nodes"
   ]
  },
  {
   "cell_type": "markdown",
   "id": "80e6a355",
   "metadata": {},
   "source": [
    "## Adding studiji"
   ]
  },
  {
   "cell_type": "code",
   "execution_count": 22,
   "id": "7f0f31e6",
   "metadata": {},
   "outputs": [],
   "source": [
    "studiji = SimpleDirectoryReader('data', filename_as_id=True).load_data()"
   ]
  },
  {
   "cell_type": "code",
   "execution_count": 23,
   "id": "0b216931",
   "metadata": {},
   "outputs": [],
   "source": [
    "def handle_studiji(studiji):\n",
    "    root_node = TextNode(\n",
    "        text=\"\",\n",
    "        metadata={\n",
    "            'name': 'Studiji na Fakultetu primjenjene matematike i informatike',\n",
    "            'type': 'list'\n",
    "        },\n",
    "        id_='Studiji na Fakultetu primjenjene matematike i informatike'\n",
    "    )\n",
    "    root_text = \"\"\n",
    "    nodes = []\n",
    "    for studij in studiji:\n",
    "        filename = os.path.splitext(os.path.basename(studij.id_))[0]\n",
    "        root_text += filename + '\\n'\n",
    "        node = TextNode(\n",
    "            text=studij.text,\n",
    "            metadata={\n",
    "                'filename': filename,\n",
    "                'type': 'University programme description'\n",
    "            },\n",
    "            id_=filename\n",
    "        )\n",
    "        root_node.relationships[NodeRelationship.NEXT] = RelatedNodeInfo(node_id=filename)\n",
    "        node.relationships[NodeRelationship.PREVIOUS] = RelatedNodeInfo(node_id=root_node.id_) \n",
    "        nodes.append(node)\n",
    "    root_node.text = root_text\n",
    "    return [root_node] + nodes "
   ]
  },
  {
   "cell_type": "code",
   "execution_count": 24,
   "id": "72481170",
   "metadata": {},
   "outputs": [],
   "source": [
    "nodes = handle_studiji(studiji)"
   ]
  },
  {
   "cell_type": "markdown",
   "id": "2f84cbd1",
   "metadata": {},
   "source": [
    "### Izvedbeni planovi"
   ]
  },
  {
   "cell_type": "code",
   "execution_count": 26,
   "id": "571c768c",
   "metadata": {},
   "outputs": [],
   "source": [
    "izv_planovi = SimpleDirectoryReader('data/izvedbeni', filename_as_id=True).load_data()"
   ]
  },
  {
   "cell_type": "code",
   "execution_count": 27,
   "id": "0805bd32",
   "metadata": {},
   "outputs": [],
   "source": [
    "def title_text_split(string):\n",
    "    return (string.split('\\n')[0].strip(), \"\\n\".join(string.split('\\n')[1:]))"
   ]
  },
  {
   "cell_type": "code",
   "execution_count": 28,
   "id": "960b33d0",
   "metadata": {},
   "outputs": [],
   "source": [
    "def handle_izvedbeni(izvedbeni, existing_nodes):\n",
    "    filename = os.path.splitext(os.path.basename(izvedbeni.id_))[0]\n",
    "    studij = filename.split(' - Izv')[0]\n",
    "    years = izvedbeni.text.split('\\n\\n\\n')\n",
    "    for i, year_text in enumerate(years):\n",
    "        year, _ = title_text_split(year_text)\n",
    "        year_id = f'{filename} - {year}'\n",
    "        node = TextNode(\n",
    "            text = year_text,\n",
    "            metadata = {\n",
    "                'Studij': studij,\n",
    "                'Godina': year,\n",
    "                'Type': 'Izvedbeni plan - popis kolegija i opće informacije',\n",
    "                'Desc': f'Svi kolegiji na studiju {studij} ({i+1}/{len(years)})'\n",
    "            },\n",
    "            id_ = year_id\n",
    "        )\n",
    "        for nod in existing_nodes:\n",
    "            if nod.id_ == studij:\n",
    "                nod.relationships[NodeRelationship.NEXT] = RelatedNodeInfo(node_id=year_id)\n",
    "        existing_nodes.append(node)\n"
   ]
  },
  {
   "cell_type": "code",
   "execution_count": 29,
   "id": "7aef0285",
   "metadata": {},
   "outputs": [],
   "source": [
    "for izv_plan in izv_planovi:\n",
    "    handle_izvedbeni(izv_plan, nodes)"
   ]
  },
  {
   "cell_type": "code",
   "execution_count": 30,
   "id": "649c71d5",
   "metadata": {},
   "outputs": [
    {
     "name": "stderr",
     "output_type": "stream",
     "text": [
      "Generating embeddings: 100%|█████████████████████████████████| 22/22 [00:02<00:00,  8.44it/s]\n"
     ]
    }
   ],
   "source": [
    "index = VectorStoreIndex(\n",
    "    nodes,\n",
    "    show_progress=True\n",
    ")"
   ]
  },
  {
   "cell_type": "code",
   "execution_count": 31,
   "id": "cf7363e8",
   "metadata": {},
   "outputs": [],
   "source": [
    "index.storage_context.persist()"
   ]
  },
  {
   "cell_type": "code",
   "execution_count": 99,
   "id": "ffddfa3d",
   "metadata": {},
   "outputs": [],
   "source": [
    "llm = OpenAI(model=\"gpt-3.5-turbo-16k\", temperature=0, max_tokens=2048)\n",
    "service_context = ServiceContext.from_defaults(llm=llm)\n",
    "query_engine = index.as_query_engine(service_context=service_context)"
   ]
  },
  {
   "cell_type": "code",
   "execution_count": 102,
   "id": "0d0ad4c1",
   "metadata": {},
   "outputs": [
    {
     "name": "stdout",
     "output_type": "stream",
     "text": [
      "Na drugoj godini diplomskog studija financijske matematike izvode se kolegiji \"Matematičke financije\" i \"Financijska i aktuarska matematika\".\n"
     ]
    }
   ],
   "source": [
    "response = query_engine.query(\"Koji kolegiji se izvode na drugoj godini diplomskog studija financijske matematike, uključujući i izborne kolegije?\")\n",
    "print(response)"
   ]
  }
 ],
 "metadata": {
  "kernelspec": {
   "display_name": "Python 3 (ipykernel)",
   "language": "python",
   "name": "python3"
  },
  "language_info": {
   "codemirror_mode": {
    "name": "ipython",
    "version": 3
   },
   "file_extension": ".py",
   "mimetype": "text/x-python",
   "name": "python",
   "nbconvert_exporter": "python",
   "pygments_lexer": "ipython3",
   "version": "3.11.5"
  }
 },
 "nbformat": 4,
 "nbformat_minor": 5
}
