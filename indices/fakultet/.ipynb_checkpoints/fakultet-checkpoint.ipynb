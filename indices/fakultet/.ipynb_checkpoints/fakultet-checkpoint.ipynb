{
 "cells": [
  {
   "cell_type": "code",
   "execution_count": 1,
   "id": "db590bbc",
   "metadata": {},
   "outputs": [],
   "source": [
    "import os\n",
    "os.environ[\"OPENAI_API_KEY\"] = 'YOUR_API_KEY'"
   ]
  },
  {
   "cell_type": "code",
   "execution_count": 2,
   "id": "7f7a96e6",
   "metadata": {},
   "outputs": [],
   "source": [
    "from llama_index import VectorStoreIndex, SimpleDirectoryReader, SimpleKeywordTableIndex\n",
    "from llama_index.node_parser import SimpleNodeParser\n",
    "from llama_index.indices.service_context import ServiceContext\n",
    "from llama_index.llms import OpenAI\n",
    "\n",
    "from llama_index.schema import TextNode, NodeRelationship, RelatedNodeInfo"
   ]
  },
  {
   "cell_type": "markdown",
   "id": "bf71b0d5",
   "metadata": {},
   "source": [
    "# Building knowledge base with nodes"
   ]
  },
  {
   "cell_type": "code",
   "execution_count": 3,
   "id": "0805bd32",
   "metadata": {},
   "outputs": [],
   "source": [
    "def title_text_split(string):\n",
    "    return (string.split('\\n')[0].strip(), \"\\n\".join(string.split('\\n')[1:]))"
   ]
  },
  {
   "cell_type": "markdown",
   "id": "df5bafba",
   "metadata": {},
   "source": [
    "### Kolegiji"
   ]
  },
  {
   "cell_type": "code",
   "execution_count": 11,
   "id": "b5b50275",
   "metadata": {},
   "outputs": [],
   "source": [
    "fakultet = SimpleDirectoryReader('data', filename_as_id=True).load_data()"
   ]
  },
  {
   "cell_type": "code",
   "execution_count": 12,
   "id": "1863c43f",
   "metadata": {},
   "outputs": [],
   "source": [
    "nodes = []\n",
    "for info in fakultet:\n",
    "    name = os.path.splitext(os.path.basename(info.id_))[0]\n",
    "    node = TextNode(\n",
    "        text=info.text,\n",
    "        metadata = {\n",
    "            'name': name\n",
    "        },\n",
    "        id_ = name\n",
    "    )\n",
    "    nodes.append(node)"
   ]
  },
  {
   "cell_type": "code",
   "execution_count": 13,
   "id": "f4ff1d3a",
   "metadata": {},
   "outputs": [
    {
     "name": "stderr",
     "output_type": "stream",
     "text": [
      "\n",
      "Generating embeddings:   0%|                                                                     | 0/9 [00:00<?, ?it/s]\u001b[A\n",
      "Generating embeddings: 100%|█████████████████████████████████████████████████████████████| 9/9 [00:00<00:00, 10.69it/s]\u001b[A\n"
     ]
    }
   ],
   "source": [
    "index = VectorStoreIndex(\n",
    "    nodes,\n",
    "    show_progress=True\n",
    ")"
   ]
  },
  {
   "cell_type": "code",
   "execution_count": 14,
   "id": "8c7f7ebc",
   "metadata": {},
   "outputs": [],
   "source": [
    "index.storage_context.persist()"
   ]
  },
  {
   "cell_type": "markdown",
   "id": "3f51eee8",
   "metadata": {},
   "source": [
    "## Ispitivanje modela"
   ]
  },
  {
   "cell_type": "code",
   "execution_count": 99,
   "id": "ffddfa3d",
   "metadata": {},
   "outputs": [],
   "source": [
    "llm = OpenAI(model=\"gpt-3.5-turbo-16k\", temperature=0, max_tokens=2048)\n",
    "service_context = ServiceContext.from_defaults(llm=llm)\n",
    "query_engine = index.as_query_engine(service_context=service_context)"
   ]
  },
  {
   "cell_type": "code",
   "execution_count": 102,
   "id": "0d0ad4c1",
   "metadata": {},
   "outputs": [
    {
     "name": "stdout",
     "output_type": "stream",
     "text": [
      "Na drugoj godini diplomskog studija financijske matematike izvode se kolegiji \"Matematičke financije\" i \"Financijska i aktuarska matematika\".\n"
     ]
    }
   ],
   "source": [
    "response = query_engine.query(\"Koji kolegiji se izvode na drugoj godini diplomskog studija financijske matematike, uključujući i izborne kolegije?\")\n",
    "print(response)"
   ]
  }
 ],
 "metadata": {
  "kernelspec": {
   "display_name": "Python 3 (ipykernel)",
   "language": "python",
   "name": "python3"
  },
  "language_info": {
   "codemirror_mode": {
    "name": "ipython",
    "version": 3
   },
   "file_extension": ".py",
   "mimetype": "text/x-python",
   "name": "python",
   "nbconvert_exporter": "python",
   "pygments_lexer": "ipython3",
   "version": "3.11.5"
  }
 },
 "nbformat": 4,
 "nbformat_minor": 5
}
