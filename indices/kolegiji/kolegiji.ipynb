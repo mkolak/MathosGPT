{
 "cells": [
  {
   "cell_type": "code",
   "execution_count": 1,
   "id": "db590bbc",
   "metadata": {},
   "outputs": [],
   "source": [
    "import os\n",
    "os.environ[\"OPENAI_API_KEY\"] = 'YOUR_API_KEY'"
   ]
  },
  {
   "cell_type": "code",
   "execution_count": 2,
   "id": "7f7a96e6",
   "metadata": {},
   "outputs": [],
   "source": [
    "from llama_index import VectorStoreIndex, SimpleDirectoryReader, SimpleKeywordTableIndex\n",
    "from llama_index.node_parser import SimpleNodeParser\n",
    "from llama_index.indices.service_context import ServiceContext\n",
    "from llama_index.llms import OpenAI\n",
    "\n",
    "from llama_index.schema import TextNode, NodeRelationship, RelatedNodeInfo"
   ]
  },
  {
   "cell_type": "markdown",
   "id": "bf71b0d5",
   "metadata": {},
   "source": [
    "# Building knowledge base with nodes"
   ]
  },
  {
   "cell_type": "code",
   "execution_count": 3,
   "id": "0805bd32",
   "metadata": {},
   "outputs": [],
   "source": [
    "def title_text_split(string):\n",
    "    return (string.split('\\n')[0].strip(), \"\\n\".join(string.split('\\n')[1:]))"
   ]
  },
  {
   "cell_type": "markdown",
   "id": "df5bafba",
   "metadata": {},
   "source": [
    "### Kolegiji"
   ]
  },
  {
   "cell_type": "code",
   "execution_count": 4,
   "id": "b5b50275",
   "metadata": {},
   "outputs": [],
   "source": [
    "kolegiji = SimpleDirectoryReader('data', filename_as_id=True).load_data()"
   ]
  },
  {
   "cell_type": "code",
   "execution_count": 5,
   "id": "93081076",
   "metadata": {},
   "outputs": [],
   "source": [
    "def handle_kolegij(kolegij, existing_nodes):\n",
    "    name = os.path.splitext(os.path.basename(kolegij.id_))[0]\n",
    "    sections = kolegij.text.split('\\n\\n\\n')\n",
    "    for section_text in sections:\n",
    "        section, _ = title_text_split(section_text)\n",
    "        section_id = f'{name} - {section}'\n",
    "        node = TextNode(\n",
    "            text = section_text,\n",
    "            metadata = {\n",
    "                'Type': 'Informacije o kolegiju',\n",
    "                'Section': section\n",
    "            },\n",
    "            id_ = section_id\n",
    "        )\n",
    "        existing_nodes.append(node)"
   ]
  },
  {
   "cell_type": "code",
   "execution_count": 7,
   "id": "1863c43f",
   "metadata": {},
   "outputs": [],
   "source": [
    "nodes = []\n",
    "for kolegij in kolegiji:\n",
    "#     handle_kolegij(kolegij, nodes)\n",
    "    name = os.path.splitext(os.path.basename(kolegij.id_))[0]\n",
    "    node = TextNode(\n",
    "        text=kolegij.text,\n",
    "        metadata = {\n",
    "            'type': 'Informacije o kolegiju',\n",
    "            'kolegij': name\n",
    "        },\n",
    "        id_ = name\n",
    "    )\n",
    "    nodes.append(node)"
   ]
  },
  {
   "cell_type": "code",
   "execution_count": 9,
   "id": "f4ff1d3a",
   "metadata": {},
   "outputs": [
    {
     "name": "stderr",
     "output_type": "stream",
     "text": [
      "C:\\Python311\\Lib\\site-packages\\tqdm\\auto.py:21: TqdmWarning: IProgress not found. Please update jupyter and ipywidgets. See https://ipywidgets.readthedocs.io/en/stable/user_install.html\n",
      "  from .autonotebook import tqdm as notebook_tqdm\n",
      "Generating embeddings: 100%|█████████████████████████████████████████████████████████| 115/115 [00:10<00:00, 10.52it/s]\n"
     ]
    }
   ],
   "source": [
    "index = VectorStoreIndex(\n",
    "    nodes,\n",
    "    show_progress=True\n",
    ")"
   ]
  },
  {
   "cell_type": "code",
   "execution_count": 10,
   "id": "8c7f7ebc",
   "metadata": {},
   "outputs": [],
   "source": [
    "index.storage_context.persist()"
   ]
  },
  {
   "cell_type": "markdown",
   "id": "3f51eee8",
   "metadata": {},
   "source": [
    "## Ispitivanje modela"
   ]
  },
  {
   "cell_type": "code",
   "execution_count": 99,
   "id": "ffddfa3d",
   "metadata": {},
   "outputs": [],
   "source": [
    "llm = OpenAI(model=\"gpt-3.5-turbo-16k\", temperature=0, max_tokens=2048)\n",
    "service_context = ServiceContext.from_defaults(llm=llm)\n",
    "query_engine = index.as_query_engine(service_context=service_context)"
   ]
  },
  {
   "cell_type": "code",
   "execution_count": 102,
   "id": "0d0ad4c1",
   "metadata": {},
   "outputs": [
    {
     "name": "stdout",
     "output_type": "stream",
     "text": [
      "Na drugoj godini diplomskog studija financijske matematike izvode se kolegiji \"Matematičke financije\" i \"Financijska i aktuarska matematika\".\n"
     ]
    }
   ],
   "source": [
    "response = query_engine.query(\"Koji kolegiji se izvode na drugoj godini diplomskog studija financijske matematike, uključujući i izborne kolegije?\")\n",
    "print(response)"
   ]
  }
 ],
 "metadata": {
  "kernelspec": {
   "display_name": "Python 3 (ipykernel)",
   "language": "python",
   "name": "python3"
  },
  "language_info": {
   "codemirror_mode": {
    "name": "ipython",
    "version": 3
   },
   "file_extension": ".py",
   "mimetype": "text/x-python",
   "name": "python",
   "nbconvert_exporter": "python",
   "pygments_lexer": "ipython3",
   "version": "3.11.5"
  }
 },
 "nbformat": 4,
 "nbformat_minor": 5
}
