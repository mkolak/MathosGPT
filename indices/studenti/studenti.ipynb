{
 "cells": [
  {
   "cell_type": "code",
   "execution_count": 1,
   "id": "db590bbc",
   "metadata": {},
   "outputs": [],
   "source": [
    "import os\n",
    "os.environ[\"OPENAI_API_KEY\"] = 'YOUR_API_KEY'"
   ]
  },
  {
   "cell_type": "code",
   "execution_count": 2,
   "id": "7f7a96e6",
   "metadata": {},
   "outputs": [],
   "source": [
    "from llama_index import VectorStoreIndex, SimpleDirectoryReader, SimpleKeywordTableIndex\n",
    "from llama_index.node_parser import SimpleNodeParser\n",
    "from llama_index.indices.service_context import ServiceContext\n",
    "from llama_index.llms import OpenAI\n",
    "\n",
    "from llama_index.schema import TextNode, NodeRelationship, RelatedNodeInfo"
   ]
  },
  {
   "cell_type": "markdown",
   "id": "bf71b0d5",
   "metadata": {},
   "source": [
    "# Building knowledge base with nodes"
   ]
  },
  {
   "cell_type": "markdown",
   "id": "80e6a355",
   "metadata": {},
   "source": [
    "## Adding docs"
   ]
  },
  {
   "cell_type": "code",
   "execution_count": 3,
   "id": "7f0f31e6",
   "metadata": {},
   "outputs": [],
   "source": [
    "docs = SimpleDirectoryReader('data', filename_as_id=True).load_data()"
   ]
  },
  {
   "cell_type": "code",
   "execution_count": 4,
   "id": "72481170",
   "metadata": {},
   "outputs": [],
   "source": [
    "nodes = []\n",
    "for doc in docs:\n",
    "    name = os.path.splitext(os.path.basename(doc.id_))[0]\n",
    "    node = TextNode(\n",
    "        text=doc.text,\n",
    "        metadata = {\n",
    "            'type': 'Opće informacije',\n",
    "            'title': name\n",
    "        },\n",
    "        id_ = name\n",
    "    )\n",
    "    nodes.append(node)"
   ]
  },
  {
   "cell_type": "code",
   "execution_count": 7,
   "id": "649c71d5",
   "metadata": {},
   "outputs": [
    {
     "name": "stderr",
     "output_type": "stream",
     "text": [
      "C:\\Python311\\Lib\\site-packages\\tqdm\\auto.py:21: TqdmWarning: IProgress not found. Please update jupyter and ipywidgets. See https://ipywidgets.readthedocs.io/en/stable/user_install.html\n",
      "  from .autonotebook import tqdm as notebook_tqdm\n",
      "Generating embeddings: 100%|█████████████████████████████████| 21/21 [00:03<00:00,  6.20it/s]\n"
     ]
    }
   ],
   "source": [
    "index = VectorStoreIndex(\n",
    "    nodes,\n",
    "    show_progress=True\n",
    ")"
   ]
  },
  {
   "cell_type": "code",
   "execution_count": 8,
   "id": "cf7363e8",
   "metadata": {},
   "outputs": [],
   "source": [
    "index.storage_context.persist()"
   ]
  },
  {
   "cell_type": "code",
   "execution_count": 9,
   "id": "ffddfa3d",
   "metadata": {},
   "outputs": [],
   "source": [
    "llm = OpenAI(model=\"gpt-3.5-turbo-16k\", temperature=0, max_tokens=2048)\n",
    "service_context = ServiceContext.from_defaults(llm=llm)\n",
    "query_engine = index.as_query_engine(service_context=service_context)"
   ]
  },
  {
   "cell_type": "code",
   "execution_count": 15,
   "id": "0d0ad4c1",
   "metadata": {},
   "outputs": [
    {
     "name": "stdout",
     "output_type": "stream",
     "text": [
      "Tomislav Prusina vodi sekciju natjecateljskog programiranja.\n"
     ]
    }
   ],
   "source": [
    "response = query_engine.query(\"Tko vodi sekciju natjecateljskog programiranja?\")\n",
    "print(response)"
   ]
  }
 ],
 "metadata": {
  "kernelspec": {
   "display_name": "Python 3 (ipykernel)",
   "language": "python",
   "name": "python3"
  },
  "language_info": {
   "codemirror_mode": {
    "name": "ipython",
    "version": 3
   },
   "file_extension": ".py",
   "mimetype": "text/x-python",
   "name": "python",
   "nbconvert_exporter": "python",
   "pygments_lexer": "ipython3",
   "version": "3.11.5"
  }
 },
 "nbformat": 4,
 "nbformat_minor": 5
}
